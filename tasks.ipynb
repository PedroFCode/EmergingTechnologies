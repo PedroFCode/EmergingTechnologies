{
 "cells": [
  {
   "cell_type": "markdown",
   "metadata": {},
   "source": [
    "<h1>Task 1 The Collatz Conjecture"
   ]
  },
  {
   "cell_type": "code",
   "execution_count": 3,
   "metadata": {},
   "outputs": [
    {
     "name": "stdout",
     "output_type": "stream",
     "text": [
      "Collatz conjecture is true for all numbers up to 10000\n"
     ]
    }
   ],
   "source": [
    "# Define a function to generate the Collatz sequence for a given number.\n",
    "def collatzSequence(n):\n",
    "    sequence = [n]  # Initialize a list to store the sequence, starting with n.\n",
    "    while n != 1:\n",
    "        if n % 2 == 0:  # If n is even, divide it by 2.\n",
    "            n = n // 2\n",
    "        else:\n",
    "            n = 3 * n + 1  # If n is odd, multiply it by 3 and add 1.\n",
    "        sequence.append(n)  # Append the new value to the sequence.\n",
    "    return sequence  # Return the Collatz sequence.\n",
    "\n",
    "# Define a function to verify the Collatz conjecture for numbers up to a specified limit.\n",
    "def verifyCollatzConjecture(limit):\n",
    "    for i in range(1, limit + 1):  # Loop through numbers from 1 to the specified limit.\n",
    "        sequence = collatzSequence(i)  # Generate the Collatz sequence for the current number.\n",
    "        if sequence[-1] != 1:  # Check if the last element of the sequence is not 1.\n",
    "            print(f\"Collatz conjecture is false for n = {i}\")  # If not, print a counterexample and stop.\n",
    "            break\n",
    "    else:\n",
    "        print(\"Collatz conjecture is true for all numbers up to\", limit)  # If the loop completes without finding a counterexample, print that the conjecture is true.\n",
    "\n",
    "# Verify the Collatz conjecture for the first 10,000 positive integers.\n",
    "verifyCollatzConjecture(10000)\n"
   ]
  },
  {
   "cell_type": "markdown",
   "metadata": {},
   "source": [
    "<h1>Calculating Square Root"
   ]
  },
  {
   "cell_type": "code",
   "execution_count": 31,
   "metadata": {},
   "outputs": [
    {
     "name": "stdout",
     "output_type": "stream",
     "text": [
      "Estimated Square Root of 301: 17.35\n"
     ]
    }
   ],
   "source": [
    "import random\n",
    "\n",
    "def sqrtCalc(x):\n",
    "    # Initial guess for the square root\n",
    "    z = x / 2.0\n",
    "\n",
    "    # Define the threshold for convergence\n",
    "    threshold = 0.01\n",
    "\n",
    "    while abs(z * z - x) > threshold:\n",
    "        # Newton's method formula to improve the approximation\n",
    "        z -= (z * z - x) / (2 * z)\n",
    "\n",
    "    return z\n",
    "\n",
    "# Using the method\n",
    "# Generate a random number between 0 and 1000\n",
    "min = 1\n",
    "max = 1000  # Adjust the range as needed\n",
    "x = random.randint(min, max)\n",
    "sqrt = sqrtCalc(x)\n",
    "print(f\"Estimated Square Root of {x}: {sqrt:.2f}\")\n"
   ]
  }
 ],
 "metadata": {
  "kernelspec": {
   "display_name": "Python 3 (ipykernel)",
   "language": "python",
   "name": "python3"
  },
  "language_info": {
   "codemirror_mode": {
    "name": "ipython",
    "version": 3
   },
   "file_extension": ".py",
   "mimetype": "text/x-python",
   "name": "python",
   "nbconvert_exporter": "python",
   "pygments_lexer": "ipython3",
   "version": "3.9.16"
  }
 },
 "nbformat": 4,
 "nbformat_minor": 2
}
