{
 "cells": [
  {
   "cell_type": "markdown",
   "metadata": {},
   "source": [
    "<h1>Task 1: The Collatz Conjecture"
   ]
  },
  {
   "cell_type": "code",
   "execution_count": 3,
   "metadata": {},
   "outputs": [
    {
     "name": "stdout",
     "output_type": "stream",
     "text": [
      "Collatz conjecture is true for all numbers up to 10000\n"
     ]
    }
   ],
   "source": [
    "# Define a function to generate the Collatz sequence for a given number.\n",
    "def collatzSequence(n):\n",
    "    sequence = [n]  # Initialize a list to store the sequence, starting with n.\n",
    "    while n != 1:\n",
    "        if n % 2 == 0:  # If n is even, divide it by 2.\n",
    "            n = n // 2\n",
    "        else:\n",
    "            n = 3 * n + 1  # If n is odd, multiply it by 3 and add 1.\n",
    "        sequence.append(n)  # Append the new value to the sequence.\n",
    "    return sequence  # Return the Collatz sequence.\n",
    "\n",
    "# Define a function to verify the Collatz conjecture for numbers up to a specified limit.\n",
    "def verifyCollatzConjecture(limit):\n",
    "    for i in range(1, limit + 1):  # Loop through numbers from 1 to the specified limit.\n",
    "        sequence = collatzSequence(i)  # Generate the Collatz sequence for the current number.\n",
    "        if sequence[-1] != 1:  # Check if the last element of the sequence is not 1.\n",
    "            print(f\"Collatz conjecture is false for n = {i}\")  # If not, print a counterexample and stop.\n",
    "            break\n",
    "    else:\n",
    "        print(\"Collatz conjecture is true for all numbers up to\", limit)  # If the loop completes without finding a counterexample, print that the conjecture is true.\n",
    "\n",
    "# Verify the Collatz conjecture for the first 10,000 positive integers.\n",
    "verifyCollatzConjecture(10000)\n"
   ]
  },
  {
   "cell_type": "markdown",
   "metadata": {},
   "source": [
    "<h1>Task 2: Calculating Square Root"
   ]
  },
  {
   "cell_type": "code",
   "execution_count": 32,
   "metadata": {},
   "outputs": [
    {
     "name": "stdout",
     "output_type": "stream",
     "text": [
      "Estimated Square Root of 415: 20.37\n"
     ]
    }
   ],
   "source": [
    "import random\n",
    "\n",
    "def sqrtCalc(x):\n",
    "    # Initial guess for the square root\n",
    "    z = x / 2.0\n",
    "\n",
    "    # Define the threshold for convergence\n",
    "    threshold = 0.01\n",
    "\n",
    "    while abs(z * z - x) > threshold:\n",
    "        # Newton's method formula to improve the estimation\n",
    "        z -= (z * z - x) / (2 * z)\n",
    "\n",
    "    return z\n",
    "\n",
    "# Using the method\n",
    "# Generate a random number between 0 and 1000\n",
    "min = 1\n",
    "max = 1000  # Adjust the range as needed\n",
    "x = random.randint(min, max)\n",
    "sqrt = sqrtCalc(x)\n",
    "print(f\"Estimated Square Root of {x}: {sqrt:.2f}\")\n"
   ]
  },
  {
   "cell_type": "markdown",
   "metadata": {},
   "source": [
    "<h1>Qiskit Testing"
   ]
  },
  {
   "cell_type": "code",
   "execution_count": 2,
   "metadata": {},
   "outputs": [
    {
     "data": {
      "image/png": "[encoded data removed]",
      "text/plain": [
       "<Figure size 287.294x200.667 with 1 Axes>"
      ]
     },
     "execution_count": 2,
     "metadata": {},
     "output_type": "execute_result"
    }
   ],
   "source": [
    "from qiskit import QuantumCircuit\n",
    "from qiskit.visualization import circuit_drawer\n",
    "\n",
    "# Create circuit\n",
    "qc = QuantumCircuit(2)\n",
    "\n",
    "# Add some gates to the circuit\n",
    "qc.h(0)        # H gate\n",
    "qc.cx(0, 1)    # CX gate \n",
    "\n",
    "# Drawing the circuit\n",
    "circuit_drawer(qc, output='mpl')\n"
   ]
  },
  {
   "cell_type": "markdown",
   "metadata": {},
   "source": [
    "<h1>Task 3: Reverse Engineering Functions"
   ]
  },
  {
   "cell_type": "code",
   "execution_count": 6,
   "metadata": {},
   "outputs": [
    {
     "name": "stdout",
     "output_type": "stream",
     "text": [
      "Input: 0000 Output: 1\n",
      "Input: 0001 Output: 0\n",
      "Input: 0010 Output: 0\n",
      "Input: 0011 Output: 1\n",
      "Input: 0100 Output: 0\n",
      "Input: 0101 Output: 1\n",
      "Input: 0110 Output: 0\n",
      "Input: 0111 Output: 0\n",
      "Input: 1000 Output: 1\n",
      "Input: 1001 Output: 1\n",
      "Input: 1010 Output: 0\n",
      "Input: 1011 Output: 0\n",
      "Input: 1100 Output: 0\n",
      "Input: 1101 Output: 0\n",
      "Input: 1110 Output: 1\n",
      "Input: 1111 Output: 0\n"
     ]
    }
   ],
   "source": [
    "import random\n",
    "\n",
    "# Create Random function\n",
    "def createRandomFunction():\n",
    "\n",
    "    random_function = random.randint(0, 65535) # Decimal to represent 16-bit binary value\n",
    "\n",
    "    # Evaluates the random function for a given input\n",
    "    def evaluateFunction(input_bits):\n",
    "        # Evaluate the random function by shifting it to the right\n",
    "        # by the input_bits value and bitwise AND it with 1 to get the output.\n",
    "        output = (random_function >> input_bits) & 1\n",
    "        return output\n",
    "\n",
    "    # Return evaluateFunction, which is now the random function\n",
    "    return evaluateFunction\n",
    "\n",
    "# Generate a random function using the createRandomFunction\n",
    "random_function = createRandomFunction()\n",
    "\n",
    "# Test the random function with different inputs\n",
    "for input_value in range(16):\n",
    "    output = random_function(input_value)\n",
    "    print(f\"Input: {input_value:04b} Output: {output}\")\n"
   ]
  },
  {
   "cell_type": "markdown",
   "metadata": {},
   "source": [
    "<h1>Task 4: Matrix Multiplication"
   ]
  },
  {
   "cell_type": "code",
   "execution_count": 51,
   "metadata": {},
   "outputs": [
    {
     "name": "stdout",
     "output_type": "stream",
     "text": [
      "[5.75, 10.0, 12.0]\n",
      "[11.5, 20, 24]\n",
      "[18.5, 32, 38]\n"
     ]
    }
   ],
   "source": [
    "def matrix_multiply(matrix1, matrix2):\n",
    "    if len(matrix1[0]) != len(matrix2):\n",
    "        raise ValueError(\"Number of columns in the first matrix must be equal to the number of rows in the second matrix\")\n",
    "\n",
    "    result = []\n",
    "    # Iterate through rows of matrix1\n",
    "    for i in range(len(matrix1)):\n",
    "        row = []\n",
    "\n",
    "        # Iterate through rows of matrix2\n",
    "        for j in range(len(matrix2[0])):\n",
    "            sum_val = 0\n",
    "\n",
    "            # Iterate through the elements of row in matrix1 and column in matrix2\n",
    "            for k in range(len(matrix2)):\n",
    "                sum_val += matrix1[i][k] * matrix2[k][j] # Multiplying the matrices\n",
    "\n",
    "\n",
    "            row.append(sum_val)\n",
    "        result.append(row)\n",
    "\n",
    "    return result\n",
    "\n",
    "# Example matrices\n",
    "matrix_a = [\n",
    "    [1.5, 2],\n",
    "    [3, 4],\n",
    "    [5, 6]\n",
    "]\n",
    "\n",
    "matrix_b = [\n",
    "    [2.5, 4, 4],\n",
    "    [1, 2, 3]\n",
    "]\n",
    "\n",
    "# Example matrices(Will fail)\n",
    "# matrix_a = [\n",
    "#     [1.5, 4, 5],\n",
    "#     [3, 3],\n",
    "#     [2, 2]\n",
    "# ]\n",
    "\n",
    "# matrix_b = [\n",
    "#     [2.2, 3],\n",
    "#     [1, 1]\n",
    "# ]\n",
    "\n",
    "# Multiply matrices\n",
    "result_matrix = matrix_multiply(matrix_a, matrix_b)\n",
    "for row in result_matrix:\n",
    "    print(row)\n"
   ]
  },
  {
   "cell_type": "markdown",
   "metadata": {},
   "source": [
    "<h1>Extra Code Snippets"
   ]
  },
  {
   "cell_type": "code",
   "execution_count": 52,
   "metadata": {},
   "outputs": [
    {
     "data": {
      "text/plain": [
       "0"
      ]
     },
     "execution_count": 52,
     "metadata": {},
     "output_type": "execute_result"
    }
   ],
   "source": [
    "#Creating a function in the scope of another function\n",
    "def create_f():\n",
    "    def f():\n",
    "        return 0\n",
    "    return f\n",
    "\n",
    "#points at the same thing in memory\n",
    "my_f = create_f()\n",
    "\n",
    "my_f()\n",
    "\n"
   ]
  },
  {
   "cell_type": "code",
   "execution_count": 53,
   "metadata": {},
   "outputs": [],
   "source": [
    "def power(a, b):\n",
    "    return a**b\n",
    "\n",
    "# getting two fucntion calls, square first then power\n",
    "def square(a):\n",
    "    return power(a, 2)"
   ]
  },
  {
   "cell_type": "code",
   "execution_count": 54,
   "metadata": {},
   "outputs": [
    {
     "data": {
      "text/plain": [
       "16"
      ]
     },
     "execution_count": 54,
     "metadata": {},
     "output_type": "execute_result"
    }
   ],
   "source": [
    "#Creates in memory power(a) \n",
    "def create_power(b):\n",
    "    def power(a):\n",
    "        return a**b\n",
    "    return power\n",
    "\n",
    "#2 doesnt run until power() is called\n",
    "square = create_power(2)\n",
    "\n",
    "#calls power(4)\n",
    "square (4)"
   ]
  },
  {
   "cell_type": "code",
   "execution_count": 55,
   "metadata": {},
   "outputs": [
    {
     "data": {
      "text/plain": [
       "[(False, False, False, False),\n",
       " (False, False, False, True),\n",
       " (False, False, True, False),\n",
       " (False, False, True, True),\n",
       " (False, True, False, False),\n",
       " (False, True, False, True),\n",
       " (False, True, True, False),\n",
       " (False, True, True, True),\n",
       " (True, False, False, False),\n",
       " (True, False, False, True),\n",
       " (True, False, True, False),\n",
       " (True, False, True, True),\n",
       " (True, True, False, False),\n",
       " (True, True, False, True),\n",
       " (True, True, True, False),\n",
       " (True, True, True, True)]"
      ]
     },
     "execution_count": 55,
     "metadata": {},
     "output_type": "execute_result"
    }
   ],
   "source": [
    "import itertools as it\n",
    "\n",
    "list(it.product([False, True], repeat=4))"
   ]
  }
 ],
 "metadata": {
  "kernelspec": {
   "display_name": "Python 3 (ipykernel)",
   "language": "python",
   "name": "python3"
  },
  "language_info": {
   "codemirror_mode": {
    "name": "ipython",
    "version": 3
   },
   "file_extension": ".py",
   "mimetype": "text/x-python",
   "name": "python",
   "nbconvert_exporter": "python",
   "pygments_lexer": "ipython3",
   "version": "3.9.18"
  }
 },
 "nbformat": 4,
 "nbformat_minor": 2
}
