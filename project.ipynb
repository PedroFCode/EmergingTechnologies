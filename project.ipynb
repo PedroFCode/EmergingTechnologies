{
 "cells": [
  {
   "cell_type": "markdown",
   "metadata": {},
   "source": [
    "<h1>Deustch Algorithm\n",
    "\n",
    "\n",
    "***"
   ]
  },
  {
   "cell_type": "markdown",
   "metadata": {},
   "source": [
    "<h2>Table of Contents"
   ]
  },
  {
   "cell_type": "markdown",
   "metadata": {},
   "source": [
    "<h2>Introduction\n",
    "\n",
    "<h5> "
   ]
  },
  {
   "cell_type": "markdown",
   "metadata": {},
   "source": [
    "<h2>Problem Description\n",
    "\n",
    "<h5>The Deutsch problem is a foundational problem in quantum computing that was introduced by David Deutsch in the 1980s. It serves as a key example of the capabilities of quantum algorithms and how sometimes, they can surpass classical algorithms.\n",
    "\n",
    "The problem states, you are given a quantum black-box oracle function f: {0,1} -> {0,1}, which takes a single binary input bit and returns a single binary output bit. This oracle function is guaranteed to be either constant (i.e., it always returns 0 or always returns 1) or balanced (i.e., it returns 0 for one input and 1 for the other input).\n",
    "\n",
    "Input: a funtion f : {0,1} -> {0,1}\n",
    "Output: 0 if f is constant, 1 if f is balanced\n"
   ]
  },
  {
   "cell_type": "markdown",
   "metadata": {},
   "source": [
    "<h2>Constant and Balanced Functions\n",
    "\n",
    "<h2>Constant: \n",
    "\n",
    "<h5>This circuit represents the scenario where the function is constant and always outputs 0. The quantum circuit applies Hadamard gates, simulates the constant function (no operation applied), and performs a measurement."
   ]
  },
  {
   "cell_type": "code",
   "execution_count": 25,
   "metadata": {},
   "outputs": [
    {
     "data": {
      "image/png": "[encoded data removed]",
      "text/plain": [
       "<Figure size 370.906x284.278 with 1 Axes>"
      ]
     },
     "execution_count": 25,
     "metadata": {},
     "output_type": "execute_result"
    }
   ],
   "source": [
    "from qiskit import QuantumCircuit\n",
    "from qiskit.visualization import circuit_drawer\n",
    "\n",
    "# Create a quantum circuit with two qubits and one classical register\n",
    "qc_constant = QuantumCircuit(2, 1, name='Constant Oracle')\n",
    "\n",
    "# Apply Hadamard gates to both qubits\n",
    "qc_constant.h(range(2))\n",
    "\n",
    "# Apply no operation to simulate a constant function that always outputs 0\n",
    "\n",
    "# Apply Hadamard gate to the first qubit\n",
    "qc_constant.h(0)\n",
    "\n",
    "# Measure the first qubit and store the result\n",
    "qc_constant.measure(0, 0)\n",
    "\n",
    "# Draw the circuit\n",
    "circuit_drawer(qc_constant, output='mpl')\n",
    "\n"
   ]
  },
  {
   "cell_type": "markdown",
   "metadata": {},
   "source": [
    "<h2>Balanced: \n",
    "\n",
    "<h5>This circuit represents the scenario where the function is balanced, alternating between 0 and 1. The quantum circuit applies Hadamard gates, simulates a balanced function (using a CNOT gate in this case), and performs a measurement to determine the nature of the function.\n",
    "\n",
    "These circuits visually illustrate Deutsch's algorithm for the constant and balanced function cases in Qiskit."
   ]
  },
  {
   "cell_type": "code",
   "execution_count": 27,
   "metadata": {},
   "outputs": [
    {
     "data": {
      "image/png": "[encoded data removed]",
      "text/plain": [
       "<Figure size 454.517x284.278 with 1 Axes>"
      ]
     },
     "execution_count": 27,
     "metadata": {},
     "output_type": "execute_result"
    }
   ],
   "source": [
    "# Create a quantum circuit with two qubits and one classical register\n",
    "qc_balanced = QuantumCircuit(2, 1, name='Balanced Oracle')\n",
    "\n",
    "# Apply Hadamard gates to both qubits\n",
    "qc_balanced.h(range(2))\n",
    "\n",
    "# Apply a CNOT gate to simulate a balanced function (for demonstration purposes)\n",
    "qc_balanced.cx(0, 1)  # CNOT gate where qubit 0 is the control and qubit 1 is the target\n",
    "\n",
    "qc_balanced.h(0)\n",
    "\n",
    "qc_balanced.measure(0, 0)\n",
    "\n",
    "# Draw the circuit\n",
    "circuit_drawer(qc_balanced, output='mpl')\n"
   ]
  },
  {
   "cell_type": "markdown",
   "metadata": {},
   "source": [
    "<h2>What is quantum computing?"
   ]
  },
  {
   "cell_type": "markdown",
   "metadata": {},
   "source": [
    "<h2>Oracle\n",
    "\n",
    "<h5>An oracle refers to a theoretical black-box device or function. Oracles are used to perform specific computational tasks or provide information, typically in the form of queries, without revealing the inner workings of the function.\n",
    "\n",
    "<h3>Classical\n",
    "<h5>In classical computing, an oracle is typically portrayed as a black box that receives input and outputs data depending on some unidentified function. It's a conceptual tool for describing algorithms or methods for solving problems without giving away the specifics of the algorithm. In complexity theory, for example, an oracle machine could tell us whether a problem is solvable or not, but it wouldn't tell us how the solution is arrived at.\n",
    "\n",
    "<h3>Quantum\n",
    "<h5>In quantum computing, an oracle is a crucial component of several quantum algorithms, such as Deutsch-Jozsa algorithm. It's represented as a quantum gate or a quantum circuit that implements a specific function or computation.\n",
    "<br>\n",
    "<br>\n",
    "Black-Box Function: Quantum oracles operate similarly to classical oracles but in a quantum context. They represent a function or transformation that can be implemented in a quantum circuit.\n",
    "<br>\n",
    "Unitary Transformation: In quantum computing, an oracle is typically implemented as a unitary transformation acting on qubits. It's a quantum operation that maintains the probability amplitudes of quantum states and is completely reversible.\n",
    "<br>\n",
    "Information Hiding: Oracles in quantum computing often hide information about the inner workings of the function being implemented. They provide access to specific computational steps without revealing the function's logic, crucial for quantum algorithms to exploit quantum parallelism and superposition effectively."
   ]
  },
  {
   "cell_type": "markdown",
   "metadata": {},
   "source": [
    "<h2>Qubits\n",
    "\n",
    "<h5>A qubit, short for \"quantum bit,\" is the fundamental unit of quantum information, analogous to the classical bit in classical computing. However, unlike classical bits, which can only be in a state of 0 or 1, qubits can exist in superpositions of these classical states.\n",
    "<br>\n",
    "<br>\n",
    "Standard Representation: A qubit's general quantum state in quantum mechanics can be expressed as a linear superposition of its two orthonormal basis states, also known as basis vectors. These two orthonormal basis states, {|0⟩,|1⟩}(Pronoumced Ket 0 and Ket 1), together called the computational basis, are said to span the two-dimensional linear vector (Hilbert) space of the qubit. (Hilbert spaces provide a framework to model the states of quantum systems, where each vector represents a possible state of the system, and the inner product captures the notion of orthogonality and probability amplitudes in quantum mechanics)\n",
    "<br> \n",
    "<br>\n",
    "Measurement: When a qubit is measured, it collapses from its superposition state to one of the basis states (0 or 1) probabilistically, with the probability of each outcome determined by the squared magnitudes of the amplitudes.\n",
    "<br>\n",
    "<br>\n",
    "Bloch Sphere Representation: The state of a single qubit can be represented geometrically on the Bloch sphere, a unit sphere where the north and south poles represent the basis states ∣0⟩ and ∣1⟩, respectively, and points on the surface represent superposition states.\n",
    "<br>\n",
    "<br>\n",
    "Quantum Entanglement: Qubits can be entangled, meaning the state of one qubit becomes dependent on the state of another, even when they are far apart. This property allows for quantum correlations and enables quantum algorithms like quantum teleportation(a technique for transferring quantum information from a sender at one location to a receiver some distance away) and superdense codiing(communicates a number of classical bits of information by only transmitting a smaller number of qubits, under the assumption of sender and receiver pre-sharing an entangled resource.).\n"
   ]
  },
  {
   "cell_type": "markdown",
   "metadata": {},
   "source": [
    "<h2>Density Matrix"
   ]
  },
  {
   "cell_type": "markdown",
   "metadata": {},
   "source": [
    "<h2>Reversable Computing"
   ]
  },
  {
   "cell_type": "markdown",
   "metadata": {},
   "source": [
    "<h2>Deutsch Algorithm in Full"
   ]
  },
  {
   "cell_type": "code",
   "execution_count": 28,
   "metadata": {},
   "outputs": [
    {
     "data": {
      "text/html": [
       "<pre style=\"word-wrap: normal;white-space: pre;background: #fff0;line-height: 1.1;font-family: &quot;Courier New&quot;,Courier,monospace\">     ┌───┐      ░            ░ ┌───┐┌─┐\n",
       "q_0: ┤ H ├──────░───■────────░─┤ H ├┤M├\n",
       "     ├───┤┌───┐ ░ ┌─┴─┐┌───┐ ░ └───┘└╥┘\n",
       "q_1: ┤ X ├┤ H ├─░─┤ X ├┤ X ├─░───────╫─\n",
       "     └───┘└───┘ ░ └───┘└───┘ ░       ║ \n",
       "c: 1/════════════════════════════════╩═\n",
       "                                     0 </pre>"
      ],
      "text/plain": [
       "     ┌───┐      ░            ░ ┌───┐┌─┐\n",
       "q_0: ┤ H ├──────░───■────────░─┤ H ├┤M├\n",
       "     ├───┤┌───┐ ░ ┌─┴─┐┌───┐ ░ └───┘└╥┘\n",
       "q_1: ┤ X ├┤ H ├─░─┤ X ├┤ X ├─░───────╫─\n",
       "     └───┘└───┘ ░ └───┘└───┘ ░       ║ \n",
       "c: 1/════════════════════════════════╩═\n",
       "                                     0 "
      ]
     },
     "execution_count": 28,
     "metadata": {},
     "output_type": "execute_result"
    }
   ],
   "source": [
    "from qiskit import QuantumCircuit\n",
    "\n",
    "\n",
    "def deutsch_function(case: int):\n",
    "    \"\"\"\n",
    "    Generate a valid Deutsch function as a `QuantumCircuit`.\n",
    "    \"\"\"\n",
    "    if case not in [1, 2, 3, 4]:\n",
    "        raise ValueError(\"`case` must be 1, 2, 3, or 4.\")\n",
    "\n",
    "    f = QuantumCircuit(2)\n",
    "    if case in [2, 3]:\n",
    "        f.cx(0, 1)\n",
    "    if case in [3, 4]:\n",
    "        f.x(1)\n",
    "    return f\n",
    "\n",
    "deutsch_function(3).draw()\n",
    "\n",
    "def compile_circuit(function: QuantumCircuit):\n",
    "    \"\"\"\n",
    "    Compiles a circuit for use in Deutsch's algorithm.\n",
    "    \"\"\"\n",
    "    n = function.num_qubits - 1\n",
    "    qc = QuantumCircuit(n + 1, n)\n",
    "\n",
    "    qc.x(n)\n",
    "    qc.h(range(n + 1))\n",
    "\n",
    "    qc.barrier()\n",
    "    qc.compose(function, inplace=True)\n",
    "    qc.barrier()\n",
    "\n",
    "    qc.h(range(n))\n",
    "    qc.measure(range(n), range(n))\n",
    "\n",
    "    return qc\n",
    "\n",
    "compile_circuit(\n",
    "    deutsch_function(3)\n",
    ").draw()\n",
    "\n"
   ]
  },
  {
   "cell_type": "markdown",
   "metadata": {},
   "source": [
    "<h2>References\n",
    "\n",
    "<h4>\n",
    "<a href=\"https://github.com/ianmcloughlin/notes\">Emerging Technologies Notes</a>\n",
    "<br>\n",
    "<a href=\"https://learning.quantum.ibm.com/course/basics-of-quantum-information\">Quantum Information</a>\n",
    "<br>\n",
    "<a href=\"https://en.wikipedia.org/wiki/Qubit\">Qubits</a>\n",
    "<br>\n",
    "<a href=\"https://quantumcomputing.stackexchange.com/questions/4625/what-exactly-is-an-oracle\">Oracles</a>\n",
    "<br>\n",
    "<a href=\"\"></a>"
   ]
  }
 ],
 "metadata": {
  "kernelspec": {
   "display_name": "base",
   "language": "python",
   "name": "python3"
  },
  "language_info": {
   "codemirror_mode": {
    "name": "ipython",
    "version": 3
   },
   "file_extension": ".py",
   "mimetype": "text/x-python",
   "name": "python",
   "nbconvert_exporter": "python",
   "pygments_lexer": "ipython3",
   "version": "3.9.18"
  },
  "orig_nbformat": 4
 },
 "nbformat": 4,
 "nbformat_minor": 2
}
